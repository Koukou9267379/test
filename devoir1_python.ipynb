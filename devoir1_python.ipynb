{
 "cells": [
  {
   "cell_type": "markdown",
   "metadata": {},
   "source": [
    "# DEVOIR 1 DE PYTHON"
   ]
  },
  {
   "cell_type": "markdown",
   "metadata": {},
   "source": [
    "# EXERCICE 1\n",
    "## Auteur : CHEICKH MOUCTAR KOUTIYOU DRAME\n",
    "## Classe : STI3 IPD\n",
    "## Date   : 29/01/2024\n"
   ]
  },
  {
   "cell_type": "code",
   "execution_count": null,
   "metadata": {},
   "outputs": [],
   "source": [
    "'''\n",
    "1. Écrivez un programme qui crée une liste de nombres de 1 à 10\n",
    "et affiche chaque nombre multiplié par 2.\n",
    "'''\n",
    "\n",
    "# Création de la liste de nombres de 1 à 10\n",
    "numbers = list(range(1, 11))\n",
    "\n",
    "# Affichage de chaque nombre multiplié par 2\n",
    "for number in numbers:\n",
    "    print(f\"{number} multiplié par 2 est: {number * 2}\")"
   ]
  },
  {
   "cell_type": "code",
   "execution_count": null,
   "metadata": {},
   "outputs": [],
   "source": [
    "'''\n",
    "2. Créez une liste de noms et affichez la longueur de chaque nom\n",
    "en utilisant une boucle.\n",
    "'''\n",
    "\n",
    "noms = ['Alice', 'Bob', 'Charlie', 'David', 'Eve']\n",
    "\n",
    "for nom in noms:\n",
    "    longueur = len(nom)\n",
    "    print(f\"Le nom {nom} a une longueur de {longueur} caractères.\")"
   ]
  },
  {
   "cell_type": "code",
   "execution_count": null,
   "metadata": {},
   "outputs": [],
   "source": [
    "'''\n",
    "3. Écrivez une fonction qui prend une liste en entrée et renvoie une nouvelle liste\n",
    "contenant le carré de chaque élément.\n",
    "'''\n",
    "\n",
    "def carre_liste(liste):\n",
    "    \"\"\"\n",
    "    Cette fonction prend une liste en entrée et renvoie une nouvelle liste contenant\n",
    "    le carré de chaque élément.\n",
    "    \"\"\"\n",
    "    return [element ** 2 for element in liste]\n",
    "\n",
    "#  Tests\n",
    "liste = [1, 2, 3, 4, 5]\n",
    "liste_carre = carre_liste(liste)\n",
    "print(liste_carre)\n"
   ]
  },
  {
   "cell_type": "code",
   "execution_count": null,
   "metadata": {},
   "outputs": [],
   "source": [
    "'''\n",
    "4. Créez une liste de nombres aléatoires et affichez seulement les nombres qui sont\n",
    "supérieurs à 5\n",
    "'''\n",
    "\n",
    "import random\n",
    "\n",
    "# Générer une liste de 100 nombres aléatoires entre 1 et 20\n",
    "nombres = [random.randint(1, 20) for _ in range(20)]\n",
    "\n",
    "# Filtrer les nombres supérieurs à 5\n",
    "nombres_superieurs_a_5 = [nombre for nombre in nombres if nombre > 5]\n",
    "\n",
    "# Afficher les nombres supérieurs à 5\n",
    "print(nombres_superieurs_a_5)"
   ]
  },
  {
   "cell_type": "code",
   "execution_count": null,
   "metadata": {},
   "outputs": [],
   "source": [
    "'''\n",
    "5. Écrivez un programme qui prend une liste de chaînes de caractères en entrée\n",
    "et affiche la plus longue\n",
    "'''\n",
    "def plus_longue(liste):\n",
    "    \"\"\"\n",
    "    Cette fonction prend une liste de chaînes de caractère et renvoie la plus longue.\n",
    "    \"\"\"\n",
    "    # Initialisation d'une variable pour stocker la chaîne la plus longue\n",
    "    maxi = \"\"\n",
    "    for mot in liste:\n",
    "        if len(mot) > len(maxi):\n",
    "            maxi = mot\n",
    "    return maxi\n",
    "\n",
    "# Tests\n",
    "print(plus_longue([\"hello\", \"coucou\", \"bonjour\", \"Je vais à  l'école.\"]))"
   ]
  },
  {
   "cell_type": "markdown",
   "metadata": {},
   "source": [
    "# EXERCICE 2\n",
    "## Auteur : CHEICKH MOUCTAR KOUTIYOU DRAME\n",
    "## Classe : STI3 IPD\n",
    "## Date   : 29/01/2024"
   ]
  },
  {
   "cell_type": "code",
   "execution_count": null,
   "metadata": {},
   "outputs": [],
   "source": [
    "'''\n",
    "1. Écrivez une fonction qui prend deux listes en entrée et renvoie une nouvelle liste \n",
    "contenant les éléments communs aux deux listes\n",
    "'''\n",
    "def intersection(liste1, liste2):\n",
    "    return [element for element in liste1 if element in liste2]\n",
    "\n",
    "# Test de la fonction d'intersection\n",
    "print(intersection([1, 2, 3, 4], [3, 4, 5, 6]))"
   ]
  },
  {
   "cell_type": "code",
   "execution_count": null,
   "metadata": {},
   "outputs": [],
   "source": [
    "'''\n",
    "2. Créez une fonction qui prend un nombre en entrée et renvoie \"pair\" ou \"impair\". \n",
    "'''\n",
    "def pair_ou_impair(n):\n",
    "    if n % 2 == 0:\n",
    "        return \"Pair\"\n",
    "    else:\n",
    "        return \"Impair\"\n",
    "\n",
    "# Tests\n",
    "print(pair_ou_impair(4)) # doit afficher Pair\n",
    "print(pair_ou_impair(7)) # doit afficher Impair</s>"
   ]
  },
  {
   "cell_type": "code",
   "execution_count": null,
   "metadata": {},
   "outputs": [],
   "source": [
    "'''\n",
    "3. Écrivez une fonction qui prend une liste de nombres en entrée et renvoie la somme de \n",
    "tous les éléments.\n",
    "'''\n",
    "def sum_list(liste):\n",
    "    return sum(liste)\n",
    "\n",
    "#  Tests\n",
    "print(sum_list([1,2,3,4,5])) # doit afficher 15"
   ]
  },
  {
   "cell_type": "code",
   "execution_count": null,
   "metadata": {},
   "outputs": [],
   "source": [
    "'''\n",
    "4. Créez une fonction qui prend une liste de mots en entrée et renvoie une nouvelle liste \n",
    "contenant la première lettre de chaque mot.\n",
    "'''\n",
    "def premier_caractere(liste):\n",
    "    return [mot[0] for mot in liste if len(mot) > 0]\n",
    "\n",
    "#  Tests\n",
    "print(premier_caractere(['banane', 'orange', '', 'kiwi']))"
   ]
  },
  {
   "cell_type": "code",
   "execution_count": null,
   "metadata": {},
   "outputs": [],
   "source": [
    "'''\n",
    "5. Écrivez une fonction qui prend une chaîne de caractères en entrée et renvoie la même \n",
    "chaîne mais sans voyelles.\n",
    "'''\n",
    "def supprimer_voyelle(chaine):\n",
    "    \"\"\"\n",
    "    Cette fonction prend une chaîne de caractère en paramètre\n",
    "    et renvoie cette chaîne sans les voyelles.\n",
    "    \"\"\"\n",
    "    # On initialise un dictionnaire des voyelles\n",
    "    voyelles = {'a':1, 'e':1, 'i':1, 'o':1, 'u':1}\n",
    "\n",
    "    # On itère sur chaque lettre de la chaîne\n",
    "    resultat = \"\"\n",
    "    for let in chaine:\n",
    "        # Si la lettre n'est pas une voyelle on l'ajoute au résultat\n",
    "        if let not in voyelles:\n",
    "            resultat += let\n",
    "    return resultat\n",
    "\n",
    "#  Tests de la fonction\n",
    "print(supprimer_voyelle(\"Bonjour\"))\n",
    "print(supprimer_voyelle(\"Python\"))\n",
    "print(supprimer_voyelle(\"Totototo\"))"
   ]
  },
  {
   "cell_type": "markdown",
   "metadata": {},
   "source": [
    "# EXERCICE 3\n",
    "## Auteur : CHEICKH MOUCTAR KOUTIYOU DRAME\n",
    "## Classe : STI3 IPD\n",
    "## Date   : 29/01/2024"
   ]
  },
  {
   "cell_type": "code",
   "execution_count": null,
   "metadata": {},
   "outputs": [],
   "source": [
    "'''\n",
    "1. Créez une liste de nombres et écrivez une fonction qui renvoie la médiane de cette \n",
    "liste.\n",
    "'''\n",
    "import statistics as stats\n",
    "\n",
    "def mediane(liste):\n",
    "    \"\"\"Returns the median of a list of numbers.\"\"\"\n",
    "    return stats.median(liste)\n",
    "\n",
    "# Exemple d'utilisation :\n",
    "nombres = [4, 2, 9, 6, 5]\n",
    "print(f\"La médiane de {nombres} est : \", mediane(nombres))"
   ]
  },
  {
   "cell_type": "code",
   "execution_count": null,
   "metadata": {},
   "outputs": [],
   "source": [
    "'''\n",
    "2. Écrivez une fonction qui prend une liste de chaînes de caractères en entrée et renvoie \n",
    "une nouvelle liste contenant seulement les chaînes de plus de 5 caractères.\n",
    "'''\n",
    "def filtrer_chaine(liste):\n",
    "    \"\"\"\n",
    "    Filtre la liste des chaînes pour obtenir que celles-ci ayant plus de 5 caractères.\n",
    "    \"\"\"\n",
    "    return [ch for ch in liste if len(ch) > 5]\n",
    "\n",
    "#  Tests\n",
    "print(filtrer_chaine(['a', 'abcde', '1234567890']))\n",
    "print(filtrer_chaine(['python', 'java', 'c++', 'javascript']))"
   ]
  },
  {
   "cell_type": "code",
   "execution_count": null,
   "metadata": {},
   "outputs": [],
   "source": [
    "'''\n",
    "3. Créez une liste de nombres et écrivez un programme qui calcule la moyenne de ces \n",
    "nombres sans utiliser la fonction `sum`.\n",
    "'''\n",
    "# Création d'une liste de nombres\n",
    "numbers = [5, 10, 7, 2, 9]\n",
    "\n",
    "def calculate_average(liste):\n",
    "    \"\"\"\n",
    "    Calcule la moyenne des éléments d'une liste en utilisant le nombre d'élément\n",
    "    de la liste comme diviseur.\n",
    "    \"\"\"\n",
    "    # On initialise la variable somme à zéro\n",
    "    total = 0\n",
    "    # Pour chaque élément dans la liste, on ajoute son valeur à la somme\n",
    "    for num in liste:\n",
    "        total += num\n",
    "    # La division du total par le nombre d'élémnts donne la moyenne\n",
    "    return total / len(liste)\n",
    "\n",
    "print(\"La moyenne est de : \", calculate_average(numbers))"
   ]
  },
  {
   "cell_type": "code",
   "execution_count": null,
   "metadata": {},
   "outputs": [],
   "source": [
    "'''\n",
    "4. Écrivez une fonction qui prend une liste en entrée et renvoie la liste inversée.\n",
    "'''\n",
    "def inverse_liste(lst):\n",
    "    return lst[::-1]\n",
    "\n",
    "#  Test de la fonction\n",
    "print(inverse_liste([1,2,3,4,5]))"
   ]
  },
  {
   "cell_type": "code",
   "execution_count": null,
   "metadata": {},
   "outputs": [],
   "source": [
    "'''\n",
    "5. Créez une liste de noms et affichez les noms qui contiennent la lettre \"a\".\n",
    "'''\n",
    "noms = ['Adam', 'Alexandra', 'Anna', 'Augustin', 'Bruno']\n",
    "\n",
    "# On utilise une boucle for pour parcourir chaque élément de la liste\n",
    "for nom in noms:\n",
    "    # On vérifie si le nom contient la lettre \"a\" ou \"A\", on utilise l'opérateur \"in\" pour cela\n",
    "    if 'a' in nom or 'A' in nom:\n",
    "        print(nom)"
   ]
  },
  {
   "cell_type": "markdown",
   "metadata": {},
   "source": [
    "# EXERCICE 4\n",
    "## Auteur : CHEICKH MOUCTAR KOUTIYOU DRAME\n",
    "## Classe : STI3 IPD\n",
    "## Date   : 29/01/2024"
   ]
  },
  {
   "cell_type": "code",
   "execution_count": null,
   "metadata": {},
   "outputs": [],
   "source": [
    "'''\n",
    "1. Créez une fonction qui prend une liste en entrée et renvoie la liste sans les éléments en \n",
    "doublon.\n",
    "'''\n",
    "def supprimer_doublons(liste):\n",
    "    return list(set(liste))\n",
    "\n",
    "# Test de la fonction\n",
    "print(supprimer_doublons([1,2,3,4,5,1,2]))"
   ]
  },
  {
   "cell_type": "code",
   "execution_count": null,
   "metadata": {},
   "outputs": [],
   "source": [
    "\"\"\"\n",
    "2. Créez une fonction qui génère une liste de nombres premiers jusqu'à un nombre \n",
    "donné.\n",
    "\"\"\"\n",
    "\n",
    "def generate_prime_numbers(n):\n",
    "    \"\"\"\n",
    "    Génère une liste de nombres premiers jusqu'à un nombre donné.\n",
    "    \"\"\"\n",
    "\n",
    "    # Vérifie si n est inférieur à 2\n",
    "    if n < 2:\n",
    "        return []\n",
    "\n",
    "    # Initialise un tableau de booléens pour stocker les informations sur les nombres premiers\n",
    "    primes = [True] * (n + 1)\n",
    "\n",
    "    # Les nombres 0 et 1 ne sont pas premiers\n",
    "    primes[0] = primes[1] = False\n",
    "\n",
    "    # Parcourt les nombres de 2 à la racine carrée de n\n",
    "    for p in range(2, int(n**0.5) + 1):\n",
    "\n",
    "        # Si p est premier\n",
    "        if primes[p]:\n",
    "\n",
    "            # Marque tous les multiples de p comme non premiers\n",
    "            for i in range(p * p, n + 1, p):\n",
    "                primes[i] = False\n",
    "\n",
    "    # Retourne la liste des nombres premiers jusqu'à n\n",
    "    return [i for i in range(2, n + 1) if primes[i]]\n",
    "\n",
    "print(generate_prime_numbers(20))    # Affiche : [2, 3, 5, 7, 11, 13, 17, 19]"
   ]
  },
  {
   "cell_type": "code",
   "execution_count": null,
   "metadata": {},
   "outputs": [],
   "source": [
    "\"\"\"\n",
    "3. Écrivez un programme qui utilise la fonction map pour multiplier chaque élément \n",
    "d'une liste par 3\n",
    "\"\"\"\n",
    "def multiplication_par_trois(liste):\n",
    "    return list(map(lambda x: x * 3, liste))\n",
    "\n",
    "# Test du code\n",
    "ma_liste = [1, 2, 3, 4, 5]\n",
    "print(multiplication_par_trois(ma_liste))"
   ]
  },
  {
   "cell_type": "markdown",
   "metadata": {},
   "source": [
    "# EXERCICE 5\n",
    "## Auteur : CHEICKH MOUCTAR KOUTIYOU DRAME\n",
    "## Classe : STI3 IPD\n",
    "## Date   : 29/01/2024"
   ]
  },
  {
   "cell_type": "code",
   "execution_count": null,
   "metadata": {},
   "outputs": [],
   "source": [
    "\"\"\"\n",
    "Écrivez une fonction en Python qui prend en entrée un texte en anglais ou en français et qui \n",
    "calcule la fréquence d'apparition de chaque lettre. La fonction devrait retourner un \n",
    "dictionnaire où les clés sont les lettres de l'alphabet et les valeurs sont les fréquences \n",
    "correspondantes.\n",
    "\"\"\"\n",
    "\n",
    "import string\n",
    "\n",
    "def letter_frequencies(text):\n",
    "    freq = {}\n",
    "    for letter in text.lower():\n",
    "        if letter.isalpha():\n",
    "            if letter not in freq:\n",
    "                freq[letter] = 0\n",
    "            freq[letter] += 1\n",
    "    return freq\n",
    "\n",
    "#  Tests\n",
    "print(letter_frequencies(\"Hello, how are you?\"))\n",
    "print(letter_frequencies(\"Bonjour, comment vas-tu?\"))\n"
   ]
  }
 ],
 "metadata": {
  "kernelspec": {
   "display_name": "Python 3",
   "language": "python",
   "name": "python3"
  },
  "language_info": {
   "name": "python",
   "version": "3.12.1"
  }
 },
 "nbformat": 4,
 "nbformat_minor": 2
}
